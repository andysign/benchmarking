{
 "cells": [
  {
   "cell_type": "code",
   "execution_count": 1,
   "metadata": {},
   "outputs": [],
   "source": [
    "%matplotlib inline\n",
    "import matplotlib.pyplot as plt\n",
    "import matplotlib.ticker as ticker\n",
    "#import matplotlib\n",
    "\n",
    "import pandas as pd\n",
    "import numpy as np\n",
    "import durationpy\n",
    "import math\n",
    "from os.path import join\n",
    "from collections import defaultdict\n"
   ]
  },
  {
   "cell_type": "code",
   "execution_count": 2,
   "metadata": {},
   "outputs": [],
   "source": [
    "plt.style.use('ggplot')\n",
    "\n",
    "COLORS_DEFAULT ={'blue': '#348ABD', 'red': '#E24A33'}"
   ]
  },
  {
   "cell_type": "code",
   "execution_count": null,
   "metadata": {},
   "outputs": [],
   "source": []
  },
  {
   "cell_type": "code",
   "execution_count": 3,
   "metadata": {},
   "outputs": [],
   "source": [
    "# conda install -c phlya adjusttext \n",
    "from adjustText import adjust_text"
   ]
  },
  {
   "cell_type": "markdown",
   "metadata": {},
   "source": [
    "## csv result files directory name and file names"
   ]
  },
  {
   "cell_type": "code",
   "execution_count": 4,
   "metadata": {},
   "outputs": [],
   "source": [
    "CSV_RESULT_DIR = \"../wasm-engines/testresults\"\n",
    "\n",
    "WASM_RESULT_FILE = \"standalone_wasm_results.csv\"\n",
    "NATIVE_RESULT_FILE = \"native_benchmarks.csv\"\n",
    "\n",
    "\n"
   ]
  },
  {
   "cell_type": "markdown",
   "metadata": {},
   "source": [
    "## To add a new engine, add the engine name used in the csv file to this list"
   ]
  },
  {
   "cell_type": "code",
   "execution_count": 5,
   "metadata": {},
   "outputs": [],
   "source": [
    "INTERPRETER_ENGINES = ['life', 'wagon', 'wasmi', 'wabt', 'v8-interpreter', 'wasm3', 'wamr-interp']\n",
    "COMPILER_ENGINES = ['lifePolymerase', 'wasmtime', 'wavm', 'v8-liftoff', 'v8-turbofan', 'asmble', 'wamr-jit', 'wamr-aot']\n",
    "\n",
    "wasm_vm_names = INTERPRETER_ENGINES + COMPILER_ENGINES"
   ]
  },
  {
   "cell_type": "code",
   "execution_count": null,
   "metadata": {},
   "outputs": [],
   "source": []
  },
  {
   "cell_type": "markdown",
   "metadata": {},
   "source": [
    "## Helper funcs"
   ]
  },
  {
   "cell_type": "code",
   "execution_count": 6,
   "metadata": {},
   "outputs": [],
   "source": [
    "def toMs(secs):\n",
    "    if secs < 0.001:\n",
    "        μs = secs * 1000000\n",
    "        return \"{}μs\".format(round(μs, 1))\n",
    "    if secs < 0.1:\n",
    "        ms = secs * 1000\n",
    "        return \"{}ms\".format(round(ms, 1))\n",
    "    elif secs < 1:\n",
    "        ms = secs * 1000\n",
    "        return \"{}ms\".format(int(round(ms, 0)))\n",
    "    else:\n",
    "        return \"{}s\".format(round(secs, 2))"
   ]
  },
  {
   "cell_type": "code",
   "execution_count": 7,
   "metadata": {},
   "outputs": [],
   "source": [
    "def labelBarHeights(ax, to_ms=True, small=False, to_factor=False, lower_y_bound=True):\n",
    "    labels = []\n",
    "    for p in ax.patches:\n",
    "        if p.get_height() == 0:\n",
    "            continue\n",
    "        label_val = p.get_height()\n",
    "        #print(\"height:\", p.get_height())\n",
    "        y_pos = p.get_y() + label_val\n",
    "        #y_offset = -10\n",
    "        y_offset = 0\n",
    "        y_bound = ax.get_ybound()[1]\n",
    "        if y_pos > y_bound:\n",
    "            y_pos = y_bound\n",
    "        #if label_val < (0.03 * y_bound):\n",
    "            # if bar is too small to fit text, place above the bar\n",
    "            #y_offset = 5\n",
    "        if lower_y_bound:\n",
    "            if label_val < (0.03 * y_bound) and small is False:\n",
    "                # don't place labels near bottom axis, adjust_text cant deal\n",
    "                y_offset = 0.03 * y_bound\n",
    "        \n",
    "        if label_val > 1000:\n",
    "            label_val = int(label_val)\n",
    "        if to_ms:\n",
    "            label_val = toMs(label_val)\n",
    "        if to_factor:\n",
    "            if not isinstance(to_factor, int):\n",
    "                to_factor = 2\n",
    "            label_val = str(round(label_val, to_factor)) + \"x\"\n",
    "        \"\"\"\n",
    "        txt_label = ax.annotate(toMs(label_val),\n",
    "                    (p.get_x()+p.get_width()/2.,\n",
    "                     y_pos),\n",
    "                    ha='center',\n",
    "                    va='center',\n",
    "                    xytext=(0, y_offset),\n",
    "                    textcoords='offset points',\n",
    "                    fontsize=10,\n",
    "                    weight=\"bold\")\n",
    "        \"\"\"\n",
    " \n",
    "        txt_label = ax.text(\n",
    "                    x=p.get_x()+p.get_width()/2.,\n",
    "                    y=y_pos+y_offset,\n",
    "                    s=label_val,\n",
    "                    ha='center',\n",
    "                    va='center',\n",
    "                    #xytext=(0, y_offset),\n",
    "                    #textcoords='offset points',\n",
    "                    fontsize=10,\n",
    "                    weight=\"bold\")\n",
    "\n",
    "        labels.append(txt_label)\n",
    "\n",
    "    #adjust_text(labels, ax=ax)\n",
    "    return labels"
   ]
  },
  {
   "cell_type": "code",
   "execution_count": 8,
   "metadata": {},
   "outputs": [],
   "source": [
    "def labelBarWidths(ax, to_ms=True, to_factor=False, to_kb=False, round_places=None):\n",
    "    for p in ax.patches:\n",
    "        label_val = p.get_width()\n",
    "        if label_val == 0:\n",
    "            continue\n",
    "        #print(\"bar width:\", label_val)\n",
    "        x_pos = p.get_x() + label_val\n",
    "        x_offset = -30\n",
    "        x_bound = ax.get_xbound()[1]\n",
    "        if (x_pos > x_bound):\n",
    "            x_pos = x_bound\n",
    "        #if label_val < (0.25 * x_bound):\n",
    "        if label_val < (0.15 * x_bound):\n",
    "            # if bar is too small to fit text, place next to bar\n",
    "            x_offset = 30\n",
    "        if label_val > 1000:\n",
    "            label_val = int(label_val)\n",
    "        if to_ms:\n",
    "            label_val = toMs(label_val)\n",
    "        if to_factor:\n",
    "            label_val = str(round(label_val, 2)) + \"x\"\n",
    "        if to_kb:\n",
    "            kbs = label_val / 1000.0\n",
    "            label_val = str(round(kbs, 1)) + \" kB\"\n",
    "        if round_places:\n",
    "            label_val = str(round(label_val, round_places))\n",
    "        ax.annotate(label_val,\n",
    "                    (x_pos,\n",
    "                     p.get_y()+p.get_height()/2.),\n",
    "                    ha='center',\n",
    "                    va='center',\n",
    "                    xytext=(x_offset, 0),\n",
    "                    textcoords='offset points',\n",
    "                    fontsize=10,\n",
    "                    weight=\"bold\")\n"
   ]
  },
  {
   "cell_type": "code",
   "execution_count": 9,
   "metadata": {},
   "outputs": [],
   "source": [
    "def adjust_text_labels(labels, ax=None):\n",
    "    adjust_text(labels, ax=ax, autoalign='y', only_move={'points':'y', 'text':'y'})\n",
    "                       "
   ]
  },
  {
   "cell_type": "code",
   "execution_count": 10,
   "metadata": {},
   "outputs": [],
   "source": [
    "def read_results(file_name):\n",
    "    results = defaultdict(list)\n",
    "    csv_results = pd.read_csv(file_name)    \n",
    "    return csv_results"
   ]
  },
  {
   "cell_type": "code",
   "execution_count": null,
   "metadata": {},
   "outputs": [],
   "source": []
  },
  {
   "cell_type": "code",
   "execution_count": null,
   "metadata": {},
   "outputs": [],
   "source": []
  },
  {
   "cell_type": "markdown",
   "metadata": {},
   "source": [
    "### Import wasm results"
   ]
  },
  {
   "cell_type": "code",
   "execution_count": 11,
   "metadata": {},
   "outputs": [],
   "source": [
    "df_wasm = read_results(join(CSV_RESULT_DIR, WASM_RESULT_FILE))\n"
   ]
  },
  {
   "cell_type": "code",
   "execution_count": 12,
   "metadata": {},
   "outputs": [
    {
     "data": {
      "text/html": [
       "<div>\n",
       "<style scoped>\n",
       "    .dataframe tbody tr th:only-of-type {\n",
       "        vertical-align: middle;\n",
       "    }\n",
       "\n",
       "    .dataframe tbody tr th {\n",
       "        vertical-align: top;\n",
       "    }\n",
       "\n",
       "    .dataframe thead th {\n",
       "        text-align: right;\n",
       "    }\n",
       "</style>\n",
       "<table border=\"1\" class=\"dataframe\">\n",
       "  <thead>\n",
       "    <tr style=\"text-align: right;\">\n",
       "      <th></th>\n",
       "      <th>engine</th>\n",
       "      <th>test_name</th>\n",
       "      <th>elapsed_time</th>\n",
       "      <th>compile_time</th>\n",
       "      <th>exec_time</th>\n",
       "    </tr>\n",
       "  </thead>\n",
       "  <tbody>\n",
       "    <tr>\n",
       "      <th>0</th>\n",
       "      <td>wagon</td>\n",
       "      <td>ecpairing</td>\n",
       "      <td>21.274977</td>\n",
       "      <td>0.303692</td>\n",
       "      <td>20.863073</td>\n",
       "    </tr>\n",
       "    <tr>\n",
       "      <th>1</th>\n",
       "      <td>wagon</td>\n",
       "      <td>ecpairing</td>\n",
       "      <td>21.169726</td>\n",
       "      <td>0.261795</td>\n",
       "      <td>20.904944</td>\n",
       "    </tr>\n",
       "    <tr>\n",
       "      <th>2</th>\n",
       "      <td>wagon</td>\n",
       "      <td>ecpairing</td>\n",
       "      <td>21.076915</td>\n",
       "      <td>0.257736</td>\n",
       "      <td>20.816024</td>\n",
       "    </tr>\n",
       "    <tr>\n",
       "      <th>3</th>\n",
       "      <td>wagon</td>\n",
       "      <td>sha1-21896-bits</td>\n",
       "      <td>0.375360</td>\n",
       "      <td>0.369872</td>\n",
       "      <td>0.002997</td>\n",
       "    </tr>\n",
       "    <tr>\n",
       "      <th>4</th>\n",
       "      <td>wagon</td>\n",
       "      <td>sha1-21896-bits</td>\n",
       "      <td>0.033935</td>\n",
       "      <td>0.028542</td>\n",
       "      <td>0.002909</td>\n",
       "    </tr>\n",
       "    <tr>\n",
       "      <th>...</th>\n",
       "      <td>...</td>\n",
       "      <td>...</td>\n",
       "      <td>...</td>\n",
       "      <td>...</td>\n",
       "      <td>...</td>\n",
       "    </tr>\n",
       "    <tr>\n",
       "      <th>15128</th>\n",
       "      <td>wasm3</td>\n",
       "      <td>modexp-nagydani-1-qube</td>\n",
       "      <td>0.004024</td>\n",
       "      <td>0.000026</td>\n",
       "      <td>0.001542</td>\n",
       "    </tr>\n",
       "    <tr>\n",
       "      <th>15129</th>\n",
       "      <td>wasm3</td>\n",
       "      <td>modexp-nagydani-1-qube</td>\n",
       "      <td>0.004028</td>\n",
       "      <td>0.000026</td>\n",
       "      <td>0.001502</td>\n",
       "    </tr>\n",
       "    <tr>\n",
       "      <th>15130</th>\n",
       "      <td>wasm3</td>\n",
       "      <td>modexp-nagydani-1-qube</td>\n",
       "      <td>0.004069</td>\n",
       "      <td>0.000025</td>\n",
       "      <td>0.001521</td>\n",
       "    </tr>\n",
       "    <tr>\n",
       "      <th>15131</th>\n",
       "      <td>wasm3</td>\n",
       "      <td>modexp-nagydani-1-qube</td>\n",
       "      <td>0.004263</td>\n",
       "      <td>0.000029</td>\n",
       "      <td>0.001555</td>\n",
       "    </tr>\n",
       "    <tr>\n",
       "      <th>15132</th>\n",
       "      <td>wasm3</td>\n",
       "      <td>modexp-nagydani-1-qube</td>\n",
       "      <td>0.004008</td>\n",
       "      <td>0.000026</td>\n",
       "      <td>0.001501</td>\n",
       "    </tr>\n",
       "  </tbody>\n",
       "</table>\n",
       "<p>15133 rows × 5 columns</p>\n",
       "</div>"
      ],
      "text/plain": [
       "      engine               test_name  elapsed_time  compile_time  exec_time\n",
       "0      wagon               ecpairing     21.274977      0.303692  20.863073\n",
       "1      wagon               ecpairing     21.169726      0.261795  20.904944\n",
       "2      wagon               ecpairing     21.076915      0.257736  20.816024\n",
       "3      wagon         sha1-21896-bits      0.375360      0.369872   0.002997\n",
       "4      wagon         sha1-21896-bits      0.033935      0.028542   0.002909\n",
       "...      ...                     ...           ...           ...        ...\n",
       "15128  wasm3  modexp-nagydani-1-qube      0.004024      0.000026   0.001542\n",
       "15129  wasm3  modexp-nagydani-1-qube      0.004028      0.000026   0.001502\n",
       "15130  wasm3  modexp-nagydani-1-qube      0.004069      0.000025   0.001521\n",
       "15131  wasm3  modexp-nagydani-1-qube      0.004263      0.000029   0.001555\n",
       "15132  wasm3  modexp-nagydani-1-qube      0.004008      0.000026   0.001501\n",
       "\n",
       "[15133 rows x 5 columns]"
      ]
     },
     "execution_count": 12,
     "metadata": {},
     "output_type": "execute_result"
    }
   ],
   "source": [
    "df_wasm"
   ]
  },
  {
   "cell_type": "code",
   "execution_count": null,
   "metadata": {},
   "outputs": [],
   "source": []
  },
  {
   "cell_type": "code",
   "execution_count": null,
   "metadata": {},
   "outputs": [],
   "source": []
  },
  {
   "cell_type": "markdown",
   "metadata": {},
   "source": [
    "### Import native results"
   ]
  },
  {
   "cell_type": "code",
   "execution_count": 13,
   "metadata": {},
   "outputs": [],
   "source": [
    "df_native_raw = read_results(join(CSV_RESULT_DIR, NATIVE_RESULT_FILE))"
   ]
  },
  {
   "cell_type": "code",
   "execution_count": 14,
   "metadata": {
    "scrolled": false
   },
   "outputs": [
    {
     "data": {
      "text/html": [
       "<div>\n",
       "<style scoped>\n",
       "    .dataframe tbody tr th:only-of-type {\n",
       "        vertical-align: middle;\n",
       "    }\n",
       "\n",
       "    .dataframe tbody tr th {\n",
       "        vertical-align: top;\n",
       "    }\n",
       "\n",
       "    .dataframe thead th {\n",
       "        text-align: right;\n",
       "    }\n",
       "</style>\n",
       "<table border=\"1\" class=\"dataframe\">\n",
       "  <thead>\n",
       "    <tr style=\"text-align: right;\">\n",
       "      <th></th>\n",
       "      <th>test_name</th>\n",
       "      <th>elapsed_times</th>\n",
       "      <th>native_file_size</th>\n",
       "    </tr>\n",
       "  </thead>\n",
       "  <tbody>\n",
       "    <tr>\n",
       "      <th>0</th>\n",
       "      <td>blake2b-8415-bytes</td>\n",
       "      <td>9.4765e-05, 8.5569e-05, 0.000106563, 4.5253e-0...</td>\n",
       "      <td>980536</td>\n",
       "    </tr>\n",
       "    <tr>\n",
       "      <th>1</th>\n",
       "      <td>blake2b-5610-bytes</td>\n",
       "      <td>1.0912e-05, 9.616e-06, 9.419e-06, 8.704e-06, 9...</td>\n",
       "      <td>980536</td>\n",
       "    </tr>\n",
       "    <tr>\n",
       "      <th>2</th>\n",
       "      <td>blake2b-2805-bytes</td>\n",
       "      <td>5.315e-06, 5.072e-06, 5.306e-06, 6.351e-06, 5....</td>\n",
       "      <td>886064</td>\n",
       "    </tr>\n",
       "    <tr>\n",
       "      <th>3</th>\n",
       "      <td>bls12-381-aggreg-128-pubkeys-verify-sig</td>\n",
       "      <td>0.085319826, 0.027020155, 0.020706156, 0.02108...</td>\n",
       "      <td>1247808</td>\n",
       "    </tr>\n",
       "    <tr>\n",
       "      <th>4</th>\n",
       "      <td>bls12-381-aggreg-64-pubkeys-verify-sig</td>\n",
       "      <td>0.023118231, 0.02100854, 0.020927529, 0.022508...</td>\n",
       "      <td>1243712</td>\n",
       "    </tr>\n",
       "    <tr>\n",
       "      <th>5</th>\n",
       "      <td>bls12-381-aggreg-32-pubkeys-verify-sig</td>\n",
       "      <td>0.028963954, 0.011593243, 0.010898867, 0.01078...</td>\n",
       "      <td>1243712</td>\n",
       "    </tr>\n",
       "    <tr>\n",
       "      <th>6</th>\n",
       "      <td>bn128_add-cdetrio11</td>\n",
       "      <td>5.9139e-05, 4.0972e-05, 2.1109e-05, 1.6586e-05...</td>\n",
       "      <td>890136</td>\n",
       "    </tr>\n",
       "    <tr>\n",
       "      <th>7</th>\n",
       "      <td>bn128_add-cdetrio14</td>\n",
       "      <td>1.0099e-05, 9.417e-06, 1.3762e-05, 9.729e-06, ...</td>\n",
       "      <td>890136</td>\n",
       "    </tr>\n",
       "    <tr>\n",
       "      <th>8</th>\n",
       "      <td>bn128_add-cdetrio10</td>\n",
       "      <td>3.392e-06, 2.316e-06, 1.674e-06, 1.676e-06, 1....</td>\n",
       "      <td>890136</td>\n",
       "    </tr>\n",
       "    <tr>\n",
       "      <th>9</th>\n",
       "      <td>bn128_mul-cdetrio11</td>\n",
       "      <td>0.000306138, 0.000294478, 0.000292649, 0.00048...</td>\n",
       "      <td>894280</td>\n",
       "    </tr>\n",
       "    <tr>\n",
       "      <th>10</th>\n",
       "      <td>bn128_mul-chfast2</td>\n",
       "      <td>0.000586408, 0.000587547, 0.000631237, 0.00039...</td>\n",
       "      <td>894280</td>\n",
       "    </tr>\n",
       "    <tr>\n",
       "      <th>11</th>\n",
       "      <td>bn128_mul-chfast1</td>\n",
       "      <td>0.00011682, 0.000110717, 0.000122891, 7.4033e-...</td>\n",
       "      <td>894280</td>\n",
       "    </tr>\n",
       "    <tr>\n",
       "      <th>12</th>\n",
       "      <td>bn128_mul-chfast3</td>\n",
       "      <td>0.00027095, 0.000262661, 0.000260173, 0.000259...</td>\n",
       "      <td>894280</td>\n",
       "    </tr>\n",
       "    <tr>\n",
       "      <th>13</th>\n",
       "      <td>bn128_mul-cdetrio2</td>\n",
       "      <td>0.000253638, 0.000252736, 0.000276993, 0.00026...</td>\n",
       "      <td>894280</td>\n",
       "    </tr>\n",
       "    <tr>\n",
       "      <th>14</th>\n",
       "      <td>bn128_mul-cdetrio6</td>\n",
       "      <td>0.000315146, 0.000294171, 0.000297337, 0.00030...</td>\n",
       "      <td>894280</td>\n",
       "    </tr>\n",
       "    <tr>\n",
       "      <th>15</th>\n",
       "      <td>bn128_mul-cdetrio7</td>\n",
       "      <td>0.000252022, 0.000251797, 0.000273065, 0.00025...</td>\n",
       "      <td>894280</td>\n",
       "    </tr>\n",
       "    <tr>\n",
       "      <th>16</th>\n",
       "      <td>bn128_mul-cdetrio12</td>\n",
       "      <td>0.000258035, 0.000279939, 0.000262163, 0.00025...</td>\n",
       "      <td>894280</td>\n",
       "    </tr>\n",
       "    <tr>\n",
       "      <th>17</th>\n",
       "      <td>bn128_pairing-ten_point_match_1</td>\n",
       "      <td>0.043746917, 0.043507264, 0.043393586, 0.04330...</td>\n",
       "      <td>1175280</td>\n",
       "    </tr>\n",
       "    <tr>\n",
       "      <th>18</th>\n",
       "      <td>bn128_pairing-one_point</td>\n",
       "      <td>0.017089905, 0.007685203, 0.005229109, 0.00440...</td>\n",
       "      <td>1171184</td>\n",
       "    </tr>\n",
       "    <tr>\n",
       "      <th>19</th>\n",
       "      <td>bn128_pairing-two_point_match_2</td>\n",
       "      <td>0.008792119, 0.008745655, 0.008717643, 0.00872...</td>\n",
       "      <td>1171184</td>\n",
       "    </tr>\n",
       "    <tr>\n",
       "      <th>20</th>\n",
       "      <td>ed25519-verify-ten-inputs</td>\n",
       "      <td>0.000683678, 0.00067807, 0.000659184, 0.000662...</td>\n",
       "      <td>1080936</td>\n",
       "    </tr>\n",
       "    <tr>\n",
       "      <th>21</th>\n",
       "      <td>modexp-nagydani-1-qube</td>\n",
       "      <td>1.8753e-05, 1.5811e-05, 1.5185e-05, 1.5361e-05...</td>\n",
       "      <td>921976</td>\n",
       "    </tr>\n",
       "    <tr>\n",
       "      <th>22</th>\n",
       "      <td>modexp-nagydani-1-square</td>\n",
       "      <td>1.4635e-05, 1.4983e-05, 1.4611e-05, 1.6688e-05...</td>\n",
       "      <td>921976</td>\n",
       "    </tr>\n",
       "    <tr>\n",
       "      <th>23</th>\n",
       "      <td>modexp-eip_example1</td>\n",
       "      <td>0.000199735, 0.000320065, 0.000191103, 0.00019...</td>\n",
       "      <td>921976</td>\n",
       "    </tr>\n",
       "    <tr>\n",
       "      <th>24</th>\n",
       "      <td>sha1-10808-bits</td>\n",
       "      <td>4.328e-06, 4.067e-06, 3.88e-06, 3.798e-06, 3.7...</td>\n",
       "      <td>877760</td>\n",
       "    </tr>\n",
       "    <tr>\n",
       "      <th>25</th>\n",
       "      <td>sha1-21896-bits</td>\n",
       "      <td>7.272e-06, 6.87e-06, 7.587e-06, 6.839e-06, 7.8...</td>\n",
       "      <td>877760</td>\n",
       "    </tr>\n",
       "    <tr>\n",
       "      <th>26</th>\n",
       "      <td>sha1-42488-bits</td>\n",
       "      <td>5.3981e-05, 4.5752e-05, 4.5461e-05, 4.2035e-05...</td>\n",
       "      <td>976328</td>\n",
       "    </tr>\n",
       "  </tbody>\n",
       "</table>\n",
       "</div>"
      ],
      "text/plain": [
       "                                  test_name  \\\n",
       "0                        blake2b-8415-bytes   \n",
       "1                        blake2b-5610-bytes   \n",
       "2                        blake2b-2805-bytes   \n",
       "3   bls12-381-aggreg-128-pubkeys-verify-sig   \n",
       "4    bls12-381-aggreg-64-pubkeys-verify-sig   \n",
       "5    bls12-381-aggreg-32-pubkeys-verify-sig   \n",
       "6                       bn128_add-cdetrio11   \n",
       "7                       bn128_add-cdetrio14   \n",
       "8                       bn128_add-cdetrio10   \n",
       "9                       bn128_mul-cdetrio11   \n",
       "10                        bn128_mul-chfast2   \n",
       "11                        bn128_mul-chfast1   \n",
       "12                        bn128_mul-chfast3   \n",
       "13                       bn128_mul-cdetrio2   \n",
       "14                       bn128_mul-cdetrio6   \n",
       "15                       bn128_mul-cdetrio7   \n",
       "16                      bn128_mul-cdetrio12   \n",
       "17          bn128_pairing-ten_point_match_1   \n",
       "18                  bn128_pairing-one_point   \n",
       "19          bn128_pairing-two_point_match_2   \n",
       "20                ed25519-verify-ten-inputs   \n",
       "21                   modexp-nagydani-1-qube   \n",
       "22                 modexp-nagydani-1-square   \n",
       "23                      modexp-eip_example1   \n",
       "24                          sha1-10808-bits   \n",
       "25                          sha1-21896-bits   \n",
       "26                          sha1-42488-bits   \n",
       "\n",
       "                                        elapsed_times  native_file_size  \n",
       "0   9.4765e-05, 8.5569e-05, 0.000106563, 4.5253e-0...            980536  \n",
       "1   1.0912e-05, 9.616e-06, 9.419e-06, 8.704e-06, 9...            980536  \n",
       "2   5.315e-06, 5.072e-06, 5.306e-06, 6.351e-06, 5....            886064  \n",
       "3   0.085319826, 0.027020155, 0.020706156, 0.02108...           1247808  \n",
       "4   0.023118231, 0.02100854, 0.020927529, 0.022508...           1243712  \n",
       "5   0.028963954, 0.011593243, 0.010898867, 0.01078...           1243712  \n",
       "6   5.9139e-05, 4.0972e-05, 2.1109e-05, 1.6586e-05...            890136  \n",
       "7   1.0099e-05, 9.417e-06, 1.3762e-05, 9.729e-06, ...            890136  \n",
       "8   3.392e-06, 2.316e-06, 1.674e-06, 1.676e-06, 1....            890136  \n",
       "9   0.000306138, 0.000294478, 0.000292649, 0.00048...            894280  \n",
       "10  0.000586408, 0.000587547, 0.000631237, 0.00039...            894280  \n",
       "11  0.00011682, 0.000110717, 0.000122891, 7.4033e-...            894280  \n",
       "12  0.00027095, 0.000262661, 0.000260173, 0.000259...            894280  \n",
       "13  0.000253638, 0.000252736, 0.000276993, 0.00026...            894280  \n",
       "14  0.000315146, 0.000294171, 0.000297337, 0.00030...            894280  \n",
       "15  0.000252022, 0.000251797, 0.000273065, 0.00025...            894280  \n",
       "16  0.000258035, 0.000279939, 0.000262163, 0.00025...            894280  \n",
       "17  0.043746917, 0.043507264, 0.043393586, 0.04330...           1175280  \n",
       "18  0.017089905, 0.007685203, 0.005229109, 0.00440...           1171184  \n",
       "19  0.008792119, 0.008745655, 0.008717643, 0.00872...           1171184  \n",
       "20  0.000683678, 0.00067807, 0.000659184, 0.000662...           1080936  \n",
       "21  1.8753e-05, 1.5811e-05, 1.5185e-05, 1.5361e-05...            921976  \n",
       "22  1.4635e-05, 1.4983e-05, 1.4611e-05, 1.6688e-05...            921976  \n",
       "23  0.000199735, 0.000320065, 0.000191103, 0.00019...            921976  \n",
       "24  4.328e-06, 4.067e-06, 3.88e-06, 3.798e-06, 3.7...            877760  \n",
       "25  7.272e-06, 6.87e-06, 7.587e-06, 6.839e-06, 7.8...            877760  \n",
       "26  5.3981e-05, 4.5752e-05, 4.5461e-05, 4.2035e-05...            976328  "
      ]
     },
     "execution_count": 14,
     "metadata": {},
     "output_type": "execute_result"
    }
   ],
   "source": [
    "df_native_raw"
   ]
  },
  {
   "cell_type": "code",
   "execution_count": null,
   "metadata": {},
   "outputs": [],
   "source": []
  },
  {
   "cell_type": "code",
   "execution_count": 15,
   "metadata": {},
   "outputs": [],
   "source": [
    "native_results = {}\n",
    "for i in range(len(df_native_raw)):\n",
    "    test_name = df_native_raw['test_name'][i]\n",
    "    native_results[test_name] = df_native_raw['elapsed_times'][i].split(', ')\n"
   ]
  },
  {
   "cell_type": "code",
   "execution_count": 16,
   "metadata": {},
   "outputs": [],
   "source": [
    "test_names = df_native_raw['test_name'].tolist()"
   ]
  },
  {
   "cell_type": "code",
   "execution_count": 17,
   "metadata": {},
   "outputs": [],
   "source": [
    "native_times = {}\n",
    "for test in test_names:\n",
    "    avg = np.mean([float(t) for t in native_results[test]])\n",
    "    native_times[test] = avg\n",
    "    \n"
   ]
  },
  {
   "cell_type": "code",
   "execution_count": 18,
   "metadata": {},
   "outputs": [],
   "source": [
    "df_native = pd.DataFrame.from_dict(native_times, orient='index', columns=['elapsed_time'])"
   ]
  },
  {
   "cell_type": "code",
   "execution_count": 19,
   "metadata": {},
   "outputs": [
    {
     "data": {
      "text/html": [
       "<div>\n",
       "<style scoped>\n",
       "    .dataframe tbody tr th:only-of-type {\n",
       "        vertical-align: middle;\n",
       "    }\n",
       "\n",
       "    .dataframe tbody tr th {\n",
       "        vertical-align: top;\n",
       "    }\n",
       "\n",
       "    .dataframe thead th {\n",
       "        text-align: right;\n",
       "    }\n",
       "</style>\n",
       "<table border=\"1\" class=\"dataframe\">\n",
       "  <thead>\n",
       "    <tr style=\"text-align: right;\">\n",
       "      <th></th>\n",
       "      <th>elapsed_time</th>\n",
       "    </tr>\n",
       "  </thead>\n",
       "  <tbody>\n",
       "    <tr>\n",
       "      <th>blake2b-8415-bytes</th>\n",
       "      <td>0.000025</td>\n",
       "    </tr>\n",
       "    <tr>\n",
       "      <th>blake2b-5610-bytes</th>\n",
       "      <td>0.000011</td>\n",
       "    </tr>\n",
       "    <tr>\n",
       "      <th>blake2b-2805-bytes</th>\n",
       "      <td>0.000006</td>\n",
       "    </tr>\n",
       "    <tr>\n",
       "      <th>bls12-381-aggreg-128-pubkeys-verify-sig</th>\n",
       "      <td>0.022314</td>\n",
       "    </tr>\n",
       "    <tr>\n",
       "      <th>bls12-381-aggreg-64-pubkeys-verify-sig</th>\n",
       "      <td>0.015206</td>\n",
       "    </tr>\n",
       "    <tr>\n",
       "      <th>bls12-381-aggreg-32-pubkeys-verify-sig</th>\n",
       "      <td>0.011469</td>\n",
       "    </tr>\n",
       "    <tr>\n",
       "      <th>bn128_add-cdetrio11</th>\n",
       "      <td>0.000013</td>\n",
       "    </tr>\n",
       "    <tr>\n",
       "      <th>bn128_add-cdetrio14</th>\n",
       "      <td>0.000004</td>\n",
       "    </tr>\n",
       "    <tr>\n",
       "      <th>bn128_add-cdetrio10</th>\n",
       "      <td>0.000002</td>\n",
       "    </tr>\n",
       "    <tr>\n",
       "      <th>bn128_mul-cdetrio11</th>\n",
       "      <td>0.000315</td>\n",
       "    </tr>\n",
       "    <tr>\n",
       "      <th>bn128_mul-chfast2</th>\n",
       "      <td>0.000190</td>\n",
       "    </tr>\n",
       "    <tr>\n",
       "      <th>bn128_mul-chfast1</th>\n",
       "      <td>0.000082</td>\n",
       "    </tr>\n",
       "    <tr>\n",
       "      <th>bn128_mul-chfast3</th>\n",
       "      <td>0.000265</td>\n",
       "    </tr>\n",
       "    <tr>\n",
       "      <th>bn128_mul-cdetrio2</th>\n",
       "      <td>0.000255</td>\n",
       "    </tr>\n",
       "    <tr>\n",
       "      <th>bn128_mul-cdetrio6</th>\n",
       "      <td>0.000297</td>\n",
       "    </tr>\n",
       "    <tr>\n",
       "      <th>bn128_mul-cdetrio7</th>\n",
       "      <td>0.000258</td>\n",
       "    </tr>\n",
       "    <tr>\n",
       "      <th>bn128_mul-cdetrio12</th>\n",
       "      <td>0.000257</td>\n",
       "    </tr>\n",
       "    <tr>\n",
       "      <th>bn128_pairing-ten_point_match_1</th>\n",
       "      <td>0.044388</td>\n",
       "    </tr>\n",
       "    <tr>\n",
       "      <th>bn128_pairing-one_point</th>\n",
       "      <td>0.004997</td>\n",
       "    </tr>\n",
       "    <tr>\n",
       "      <th>bn128_pairing-two_point_match_2</th>\n",
       "      <td>0.008873</td>\n",
       "    </tr>\n",
       "    <tr>\n",
       "      <th>ed25519-verify-ten-inputs</th>\n",
       "      <td>0.000676</td>\n",
       "    </tr>\n",
       "    <tr>\n",
       "      <th>modexp-nagydani-1-qube</th>\n",
       "      <td>0.000017</td>\n",
       "    </tr>\n",
       "    <tr>\n",
       "      <th>modexp-nagydani-1-square</th>\n",
       "      <td>0.000017</td>\n",
       "    </tr>\n",
       "    <tr>\n",
       "      <th>modexp-eip_example1</th>\n",
       "      <td>0.000208</td>\n",
       "    </tr>\n",
       "    <tr>\n",
       "      <th>sha1-10808-bits</th>\n",
       "      <td>0.000004</td>\n",
       "    </tr>\n",
       "    <tr>\n",
       "      <th>sha1-21896-bits</th>\n",
       "      <td>0.000007</td>\n",
       "    </tr>\n",
       "    <tr>\n",
       "      <th>sha1-42488-bits</th>\n",
       "      <td>0.000020</td>\n",
       "    </tr>\n",
       "  </tbody>\n",
       "</table>\n",
       "</div>"
      ],
      "text/plain": [
       "                                         elapsed_time\n",
       "blake2b-8415-bytes                           0.000025\n",
       "blake2b-5610-bytes                           0.000011\n",
       "blake2b-2805-bytes                           0.000006\n",
       "bls12-381-aggreg-128-pubkeys-verify-sig      0.022314\n",
       "bls12-381-aggreg-64-pubkeys-verify-sig       0.015206\n",
       "bls12-381-aggreg-32-pubkeys-verify-sig       0.011469\n",
       "bn128_add-cdetrio11                          0.000013\n",
       "bn128_add-cdetrio14                          0.000004\n",
       "bn128_add-cdetrio10                          0.000002\n",
       "bn128_mul-cdetrio11                          0.000315\n",
       "bn128_mul-chfast2                            0.000190\n",
       "bn128_mul-chfast1                            0.000082\n",
       "bn128_mul-chfast3                            0.000265\n",
       "bn128_mul-cdetrio2                           0.000255\n",
       "bn128_mul-cdetrio6                           0.000297\n",
       "bn128_mul-cdetrio7                           0.000258\n",
       "bn128_mul-cdetrio12                          0.000257\n",
       "bn128_pairing-ten_point_match_1              0.044388\n",
       "bn128_pairing-one_point                      0.004997\n",
       "bn128_pairing-two_point_match_2              0.008873\n",
       "ed25519-verify-ten-inputs                    0.000676\n",
       "modexp-nagydani-1-qube                       0.000017\n",
       "modexp-nagydani-1-square                     0.000017\n",
       "modexp-eip_example1                          0.000208\n",
       "sha1-10808-bits                              0.000004\n",
       "sha1-21896-bits                              0.000007\n",
       "sha1-42488-bits                              0.000020"
      ]
     },
     "execution_count": 19,
     "metadata": {},
     "output_type": "execute_result"
    }
   ],
   "source": [
    "df_native"
   ]
  },
  {
   "cell_type": "code",
   "execution_count": null,
   "metadata": {},
   "outputs": [],
   "source": []
  },
  {
   "cell_type": "code",
   "execution_count": null,
   "metadata": {},
   "outputs": [],
   "source": []
  },
  {
   "cell_type": "code",
   "execution_count": null,
   "metadata": {},
   "outputs": [],
   "source": []
  },
  {
   "cell_type": "code",
   "execution_count": null,
   "metadata": {},
   "outputs": [],
   "source": []
  },
  {
   "cell_type": "code",
   "execution_count": null,
   "metadata": {},
   "outputs": [],
   "source": []
  },
  {
   "cell_type": "code",
   "execution_count": null,
   "metadata": {},
   "outputs": [],
   "source": []
  },
  {
   "cell_type": "code",
   "execution_count": null,
   "metadata": {},
   "outputs": [],
   "source": []
  },
  {
   "cell_type": "code",
   "execution_count": null,
   "metadata": {},
   "outputs": [],
   "source": []
  },
  {
   "cell_type": "markdown",
   "metadata": {},
   "source": [
    "### sorted lists of test names for plotting inputs in order"
   ]
  },
  {
   "cell_type": "code",
   "execution_count": 20,
   "metadata": {},
   "outputs": [],
   "source": [
    "blake2b_test_names = [name for name in df_wasm['test_name'].unique().tolist() if 'blake2b' in name]\n",
    "blake2b_test_names.sort()\n",
    "blake2b_test_names_desc = blake2b_test_names.copy()\n",
    "blake2b_test_names_desc.reverse()\n"
   ]
  },
  {
   "cell_type": "code",
   "execution_count": 21,
   "metadata": {},
   "outputs": [],
   "source": [
    "sha1_test_names = [name for name in df_wasm['test_name'].unique().tolist() if 'sha1' in name]\n",
    "sha1_test_names.sort()\n",
    "sha1_test_names_desc = sha1_test_names.copy()\n",
    "sha1_test_names_desc.reverse()\n"
   ]
  },
  {
   "cell_type": "code",
   "execution_count": 22,
   "metadata": {},
   "outputs": [],
   "source": [
    "\n",
    "bn128_mul_test_names = ['bn128_mul-cdetrio11', 'bn128_mul-chfast2', 'bn128_mul-chfast1']\n",
    "bn128_add_test_names = ['bn128_add-cdetrio11', 'bn128_add-cdetrio14', 'bn128_add-cdetrio10']\n",
    "bn128_pairing_test_names = ['bn128_pairing-ten_point_match_1', 'bn128_pairing-two_point_match_2', 'bn128_pairing-one_point']\n",
    "\n",
    "bn128_mul_test_names.reverse()\n",
    "bn128_add_test_names.reverse()\n",
    "bn128_pairing_test_names.reverse()\n",
    "\n",
    "bn128_mul_test_names_desc = ['bn128_mul-cdetrio11', 'bn128_mul-chfast2', 'bn128_mul-chfast1']\n",
    "bn128_add_test_names_desc = ['bn128_add-cdetrio11', 'bn128_add-cdetrio14', 'bn128_add-cdetrio10']\n",
    "bn128_pairing_test_names_desc = ['bn128_pairing-ten_point_match_1', 'bn128_pairing-two_point_match_2', 'bn128_pairing-one_point']\n",
    "\n"
   ]
  },
  {
   "cell_type": "code",
   "execution_count": 23,
   "metadata": {},
   "outputs": [],
   "source": [
    "bls12_test_names = ['bls12-381-aggreg-32-pubkeys-verify-sig', 'bls12-381-aggreg-64-pubkeys-verify-sig', 'bls12-381-aggreg-128-pubkeys-verify-sig']\n",
    "bls12_test_names_desc = bls12_test_names.copy()\n",
    "bls12_test_names_desc.reverse()"
   ]
  },
  {
   "cell_type": "code",
   "execution_count": 24,
   "metadata": {},
   "outputs": [],
   "source": [
    "modexp_test_names = [name for name in df_wasm['test_name'].unique().tolist() if 'modexp' in name]\n",
    "modexp_test_names.sort()\n",
    "modexp_test_names_desc = modexp_test_names.copy()\n",
    "modexp_test_names_desc.reverse()"
   ]
  },
  {
   "cell_type": "code",
   "execution_count": 25,
   "metadata": {},
   "outputs": [],
   "source": [
    "all_tests = sha1_test_names + blake2b_test_names + modexp_test_names + ['ed25519-verify-ten-inputs'] + bls12_test_names \\\n",
    "    + bn128_add_test_names + bn128_mul_test_names + bn128_pairing_test_names"
   ]
  },
  {
   "cell_type": "code",
   "execution_count": null,
   "metadata": {},
   "outputs": [],
   "source": []
  },
  {
   "cell_type": "code",
   "execution_count": null,
   "metadata": {},
   "outputs": [],
   "source": []
  },
  {
   "cell_type": "markdown",
   "metadata": {},
   "source": [
    "### Prepare interpreter dataframe"
   ]
  },
  {
   "cell_type": "code",
   "execution_count": 26,
   "metadata": {},
   "outputs": [
    {
     "data": {
      "text/html": [
       "<div>\n",
       "<style scoped>\n",
       "    .dataframe tbody tr th:only-of-type {\n",
       "        vertical-align: middle;\n",
       "    }\n",
       "\n",
       "    .dataframe tbody tr th {\n",
       "        vertical-align: top;\n",
       "    }\n",
       "\n",
       "    .dataframe thead th {\n",
       "        text-align: right;\n",
       "    }\n",
       "</style>\n",
       "<table border=\"1\" class=\"dataframe\">\n",
       "  <thead>\n",
       "    <tr style=\"text-align: right;\">\n",
       "      <th></th>\n",
       "      <th>engine</th>\n",
       "      <th>test_name</th>\n",
       "      <th>elapsed_time</th>\n",
       "      <th>compile_time</th>\n",
       "      <th>exec_time</th>\n",
       "    </tr>\n",
       "  </thead>\n",
       "  <tbody>\n",
       "    <tr>\n",
       "      <th>0</th>\n",
       "      <td>wagon</td>\n",
       "      <td>ecpairing</td>\n",
       "      <td>21.274977</td>\n",
       "      <td>0.303692</td>\n",
       "      <td>20.863073</td>\n",
       "    </tr>\n",
       "    <tr>\n",
       "      <th>1</th>\n",
       "      <td>wagon</td>\n",
       "      <td>ecpairing</td>\n",
       "      <td>21.169726</td>\n",
       "      <td>0.261795</td>\n",
       "      <td>20.904944</td>\n",
       "    </tr>\n",
       "    <tr>\n",
       "      <th>2</th>\n",
       "      <td>wagon</td>\n",
       "      <td>ecpairing</td>\n",
       "      <td>21.076915</td>\n",
       "      <td>0.257736</td>\n",
       "      <td>20.816024</td>\n",
       "    </tr>\n",
       "    <tr>\n",
       "      <th>3</th>\n",
       "      <td>wagon</td>\n",
       "      <td>sha1-21896-bits</td>\n",
       "      <td>0.375360</td>\n",
       "      <td>0.369872</td>\n",
       "      <td>0.002997</td>\n",
       "    </tr>\n",
       "    <tr>\n",
       "      <th>4</th>\n",
       "      <td>wagon</td>\n",
       "      <td>sha1-21896-bits</td>\n",
       "      <td>0.033935</td>\n",
       "      <td>0.028542</td>\n",
       "      <td>0.002909</td>\n",
       "    </tr>\n",
       "    <tr>\n",
       "      <th>...</th>\n",
       "      <td>...</td>\n",
       "      <td>...</td>\n",
       "      <td>...</td>\n",
       "      <td>...</td>\n",
       "      <td>...</td>\n",
       "    </tr>\n",
       "    <tr>\n",
       "      <th>15128</th>\n",
       "      <td>wasm3</td>\n",
       "      <td>modexp-nagydani-1-qube</td>\n",
       "      <td>0.004024</td>\n",
       "      <td>0.000026</td>\n",
       "      <td>0.001542</td>\n",
       "    </tr>\n",
       "    <tr>\n",
       "      <th>15129</th>\n",
       "      <td>wasm3</td>\n",
       "      <td>modexp-nagydani-1-qube</td>\n",
       "      <td>0.004028</td>\n",
       "      <td>0.000026</td>\n",
       "      <td>0.001502</td>\n",
       "    </tr>\n",
       "    <tr>\n",
       "      <th>15130</th>\n",
       "      <td>wasm3</td>\n",
       "      <td>modexp-nagydani-1-qube</td>\n",
       "      <td>0.004069</td>\n",
       "      <td>0.000025</td>\n",
       "      <td>0.001521</td>\n",
       "    </tr>\n",
       "    <tr>\n",
       "      <th>15131</th>\n",
       "      <td>wasm3</td>\n",
       "      <td>modexp-nagydani-1-qube</td>\n",
       "      <td>0.004263</td>\n",
       "      <td>0.000029</td>\n",
       "      <td>0.001555</td>\n",
       "    </tr>\n",
       "    <tr>\n",
       "      <th>15132</th>\n",
       "      <td>wasm3</td>\n",
       "      <td>modexp-nagydani-1-qube</td>\n",
       "      <td>0.004008</td>\n",
       "      <td>0.000026</td>\n",
       "      <td>0.001501</td>\n",
       "    </tr>\n",
       "  </tbody>\n",
       "</table>\n",
       "<p>15133 rows × 5 columns</p>\n",
       "</div>"
      ],
      "text/plain": [
       "      engine               test_name  elapsed_time  compile_time  exec_time\n",
       "0      wagon               ecpairing     21.274977      0.303692  20.863073\n",
       "1      wagon               ecpairing     21.169726      0.261795  20.904944\n",
       "2      wagon               ecpairing     21.076915      0.257736  20.816024\n",
       "3      wagon         sha1-21896-bits      0.375360      0.369872   0.002997\n",
       "4      wagon         sha1-21896-bits      0.033935      0.028542   0.002909\n",
       "...      ...                     ...           ...           ...        ...\n",
       "15128  wasm3  modexp-nagydani-1-qube      0.004024      0.000026   0.001542\n",
       "15129  wasm3  modexp-nagydani-1-qube      0.004028      0.000026   0.001502\n",
       "15130  wasm3  modexp-nagydani-1-qube      0.004069      0.000025   0.001521\n",
       "15131  wasm3  modexp-nagydani-1-qube      0.004263      0.000029   0.001555\n",
       "15132  wasm3  modexp-nagydani-1-qube      0.004008      0.000026   0.001501\n",
       "\n",
       "[15133 rows x 5 columns]"
      ]
     },
     "execution_count": 26,
     "metadata": {},
     "output_type": "execute_result"
    }
   ],
   "source": [
    "df_wasm"
   ]
  },
  {
   "cell_type": "code",
   "execution_count": null,
   "metadata": {},
   "outputs": [],
   "source": []
  },
  {
   "cell_type": "code",
   "execution_count": 27,
   "metadata": {},
   "outputs": [],
   "source": [
    "interp_results_for_df = []\n",
    "for engine in INTERPRETER_ENGINES:\n",
    "    df_engine = df_wasm[df_wasm['engine'] == engine]\n",
    "    df_means = df_engine.groupby(['test_name']).mean()\n",
    "    test_names = df_engine['test_name'].unique().tolist()\n",
    "    for test_name in test_names:\n",
    "        interp_results_for_df.append([engine, test_name] + df_means.loc[test_name].tolist())\n"
   ]
  },
  {
   "cell_type": "code",
   "execution_count": 28,
   "metadata": {},
   "outputs": [],
   "source": [
    "#interp_results_for_df"
   ]
  },
  {
   "cell_type": "code",
   "execution_count": 29,
   "metadata": {},
   "outputs": [],
   "source": [
    "df_interp = pd.DataFrame(interp_results_for_df)"
   ]
  },
  {
   "cell_type": "code",
   "execution_count": 30,
   "metadata": {},
   "outputs": [],
   "source": [
    "df_interp.columns = ['engine', 'test_name', 'elapsed_time', 'parse_time', 'exec_time']"
   ]
  },
  {
   "cell_type": "code",
   "execution_count": 31,
   "metadata": {},
   "outputs": [],
   "source": [
    "df_interp.set_index('engine', inplace=True)"
   ]
  },
  {
   "cell_type": "code",
   "execution_count": 32,
   "metadata": {},
   "outputs": [],
   "source": [
    "df_interp['total_time'] = df_interp['parse_time'] + df_interp['exec_time']"
   ]
  },
  {
   "cell_type": "code",
   "execution_count": 33,
   "metadata": {},
   "outputs": [
    {
     "data": {
      "text/html": [
       "<div>\n",
       "<style scoped>\n",
       "    .dataframe tbody tr th:only-of-type {\n",
       "        vertical-align: middle;\n",
       "    }\n",
       "\n",
       "    .dataframe tbody tr th {\n",
       "        vertical-align: top;\n",
       "    }\n",
       "\n",
       "    .dataframe thead th {\n",
       "        text-align: right;\n",
       "    }\n",
       "</style>\n",
       "<table border=\"1\" class=\"dataframe\">\n",
       "  <thead>\n",
       "    <tr style=\"text-align: right;\">\n",
       "      <th></th>\n",
       "      <th>test_name</th>\n",
       "      <th>elapsed_time</th>\n",
       "      <th>parse_time</th>\n",
       "      <th>exec_time</th>\n",
       "      <th>total_time</th>\n",
       "    </tr>\n",
       "    <tr>\n",
       "      <th>engine</th>\n",
       "      <th></th>\n",
       "      <th></th>\n",
       "      <th></th>\n",
       "      <th></th>\n",
       "      <th></th>\n",
       "    </tr>\n",
       "  </thead>\n",
       "  <tbody>\n",
       "    <tr>\n",
       "      <th>life</th>\n",
       "      <td>ecpairing</td>\n",
       "      <td>14.537013</td>\n",
       "      <td>0.077860</td>\n",
       "      <td>14.454924</td>\n",
       "      <td>14.532784</td>\n",
       "    </tr>\n",
       "    <tr>\n",
       "      <th>life</th>\n",
       "      <td>sha1-21896-bits</td>\n",
       "      <td>0.015316</td>\n",
       "      <td>0.009637</td>\n",
       "      <td>0.002205</td>\n",
       "      <td>0.011842</td>\n",
       "    </tr>\n",
       "    <tr>\n",
       "      <th>life</th>\n",
       "      <td>bn128_mul-chfast1</td>\n",
       "      <td>0.111056</td>\n",
       "      <td>0.039112</td>\n",
       "      <td>0.068128</td>\n",
       "      <td>0.107240</td>\n",
       "    </tr>\n",
       "    <tr>\n",
       "      <th>life</th>\n",
       "      <td>bn128_mul-cdetrio11</td>\n",
       "      <td>0.401007</td>\n",
       "      <td>0.049133</td>\n",
       "      <td>0.346841</td>\n",
       "      <td>0.395975</td>\n",
       "    </tr>\n",
       "    <tr>\n",
       "      <th>life</th>\n",
       "      <td>bn128_add-cdetrio10</td>\n",
       "      <td>0.040318</td>\n",
       "      <td>0.035837</td>\n",
       "      <td>0.000673</td>\n",
       "      <td>0.036510</td>\n",
       "    </tr>\n",
       "    <tr>\n",
       "      <th>...</th>\n",
       "      <td>...</td>\n",
       "      <td>...</td>\n",
       "      <td>...</td>\n",
       "      <td>...</td>\n",
       "      <td>...</td>\n",
       "    </tr>\n",
       "    <tr>\n",
       "      <th>wamr-interp</th>\n",
       "      <td>bn128_add-cdetrio14</td>\n",
       "      <td>0.006821</td>\n",
       "      <td>0.000552</td>\n",
       "      <td>0.001636</td>\n",
       "      <td>0.002188</td>\n",
       "    </tr>\n",
       "    <tr>\n",
       "      <th>wamr-interp</th>\n",
       "      <td>bn128_add-cdetrio11</td>\n",
       "      <td>0.008343</td>\n",
       "      <td>0.000527</td>\n",
       "      <td>0.003625</td>\n",
       "      <td>0.004153</td>\n",
       "    </tr>\n",
       "    <tr>\n",
       "      <th>wamr-interp</th>\n",
       "      <td>guido-fuzzer-find-2</td>\n",
       "      <td>0.002597</td>\n",
       "      <td>0.000456</td>\n",
       "      <td>0.000002</td>\n",
       "      <td>0.000458</td>\n",
       "    </tr>\n",
       "    <tr>\n",
       "      <th>wamr-interp</th>\n",
       "      <td>sha1-10808-bits</td>\n",
       "      <td>0.003418</td>\n",
       "      <td>0.000495</td>\n",
       "      <td>0.000585</td>\n",
       "      <td>0.001079</td>\n",
       "    </tr>\n",
       "    <tr>\n",
       "      <th>wamr-interp</th>\n",
       "      <td>modexp-nagydani-1-qube</td>\n",
       "      <td>0.028567</td>\n",
       "      <td>0.000498</td>\n",
       "      <td>0.021129</td>\n",
       "      <td>0.021627</td>\n",
       "    </tr>\n",
       "  </tbody>\n",
       "</table>\n",
       "<p>202 rows × 5 columns</p>\n",
       "</div>"
      ],
      "text/plain": [
       "                          test_name  elapsed_time  parse_time  exec_time  \\\n",
       "engine                                                                     \n",
       "life                      ecpairing     14.537013    0.077860  14.454924   \n",
       "life                sha1-21896-bits      0.015316    0.009637   0.002205   \n",
       "life              bn128_mul-chfast1      0.111056    0.039112   0.068128   \n",
       "life            bn128_mul-cdetrio11      0.401007    0.049133   0.346841   \n",
       "life            bn128_add-cdetrio10      0.040318    0.035837   0.000673   \n",
       "...                             ...           ...         ...        ...   \n",
       "wamr-interp     bn128_add-cdetrio14      0.006821    0.000552   0.001636   \n",
       "wamr-interp     bn128_add-cdetrio11      0.008343    0.000527   0.003625   \n",
       "wamr-interp     guido-fuzzer-find-2      0.002597    0.000456   0.000002   \n",
       "wamr-interp         sha1-10808-bits      0.003418    0.000495   0.000585   \n",
       "wamr-interp  modexp-nagydani-1-qube      0.028567    0.000498   0.021129   \n",
       "\n",
       "             total_time  \n",
       "engine                   \n",
       "life          14.532784  \n",
       "life           0.011842  \n",
       "life           0.107240  \n",
       "life           0.395975  \n",
       "life           0.036510  \n",
       "...                 ...  \n",
       "wamr-interp    0.002188  \n",
       "wamr-interp    0.004153  \n",
       "wamr-interp    0.000458  \n",
       "wamr-interp    0.001079  \n",
       "wamr-interp    0.021627  \n",
       "\n",
       "[202 rows x 5 columns]"
      ]
     },
     "execution_count": 33,
     "metadata": {},
     "output_type": "execute_result"
    }
   ],
   "source": [
    "df_interp"
   ]
  },
  {
   "cell_type": "code",
   "execution_count": null,
   "metadata": {},
   "outputs": [],
   "source": []
  },
  {
   "cell_type": "code",
   "execution_count": null,
   "metadata": {},
   "outputs": [],
   "source": []
  },
  {
   "cell_type": "code",
   "execution_count": null,
   "metadata": {},
   "outputs": [],
   "source": []
  },
  {
   "cell_type": "code",
   "execution_count": null,
   "metadata": {},
   "outputs": [],
   "source": []
  },
  {
   "cell_type": "code",
   "execution_count": null,
   "metadata": {},
   "outputs": [],
   "source": []
  },
  {
   "cell_type": "markdown",
   "metadata": {},
   "source": [
    "## Interpreter engines compared"
   ]
  },
  {
   "cell_type": "code",
   "execution_count": 34,
   "metadata": {},
   "outputs": [],
   "source": [
    "def plotInterpThreeTests(df_testdata, three_names, title=\"Title\"):\n",
    "    df_1 = df_testdata[df_testdata['test_name'] == three_names[0]]\n",
    "    df_2 = df_testdata[df_testdata['test_name'] == three_names[1]]\n",
    "    df_3 = df_testdata[df_testdata['test_name'] == three_names[2]]\n",
    "    plt.figure()\n",
    "    f, (ax1) = plt.subplots(1, 3, sharey=True, figsize=(16,7))\n",
    "    df_1.sort_values('total_time')[['parse_time', 'exec_time']].plot.bar(ax=ax1[0], stacked=True)\n",
    "    ax1[0].set_title(three_names[0])\n",
    "    ax1[0].set(xlabel='')\n",
    "    df_2.sort_values('total_time')[['parse_time', 'exec_time']].plot.bar(ax=ax1[1], stacked=True)\n",
    "    ax1[1].set_title(three_names[1])\n",
    "    ax1[1].set(xlabel='')\n",
    "    df_3.sort_values('total_time')[['parse_time', 'exec_time']].plot.bar(ax=ax1[2], stacked=True)\n",
    "    ax1[2].set_title(three_names[2])\n",
    "    ax1[2].set(xlabel='')\n",
    "    adjust_text_labels(labelBarHeights(ax1[0]), ax=ax1[0])\n",
    "    adjust_text_labels(labelBarHeights(ax1[1]), ax=ax1[1])\n",
    "    adjust_text_labels(labelBarHeights(ax1[2]), ax=ax1[2])\n",
    "    ax1[0].legend(labels=[\"startup time\", \"execution time\"])\n",
    "    ax1[1].legend(labels=[\"startup time\", \"execution time\"])\n",
    "    ax1[2].legend(labels=[\"startup time\", \"execution time\"])\n",
    "\n",
    "    ax1[1].tick_params(axis='y', left=True, labelleft=True)\n",
    "    ax1[2].tick_params(axis='y', left=True, labelleft=True)\n",
    "    \n",
    "    scale_y = 1e-3\n",
    "    ticks_y = ticker.FuncFormatter(lambda y, pos: '{0:g}'.format(y/scale_y))\n",
    "    ax1[1].yaxis.set_major_formatter(ticks_y)\n",
    "    \n",
    "    ax1[0].set(ylabel='milliseconds')\n",
    "    \n",
    "    f.suptitle(title, fontsize=16, y=0.98)\n",
    "    plt.show()"
   ]
  },
  {
   "cell_type": "code",
   "execution_count": null,
   "metadata": {},
   "outputs": [],
   "source": []
  },
  {
   "cell_type": "code",
   "execution_count": 35,
   "metadata": {},
   "outputs": [
    {
     "data": {
      "text/plain": [
       "<Figure size 432x288 with 0 Axes>"
      ]
     },
     "metadata": {},
     "output_type": "display_data"
    },
    {
     "data": {
      "image/png": "[encoded data removed]",
      "text/plain": [
       "<Figure size 1152x504 with 3 Axes>"
      ]
     },
     "metadata": {},
     "output_type": "display_data"
    }
   ],
   "source": [
    "plotInterpThreeTests(df_interp, blake2b_test_names, title=\"wasm interpreters compared - blake2b\")"
   ]
  },
  {
   "cell_type": "markdown",
   "metadata": {},
   "source": [
    "### Interpreters - Execution time"
   ]
  },
  {
   "cell_type": "code",
   "execution_count": 36,
   "metadata": {},
   "outputs": [],
   "source": [
    "def plotThreeTestsExecTime(df_testdata, three_names, title=\"Title\"):\n",
    "    df_1 = df_testdata[df_testdata['test_name'] == three_names[0]]\n",
    "    df_2 = df_testdata[df_testdata['test_name'] == three_names[1]]\n",
    "    df_3 = df_testdata[df_testdata['test_name'] == three_names[2]]\n",
    "    plt.figure()\n",
    "    f, (ax1) = plt.subplots(1, 3, sharey=True, figsize=(16,7))\n",
    "    df_1.sort_values('exec_time')[['exec_time']].plot.bar(ax=ax1[0], color=COLORS_DEFAULT['blue'])\n",
    "    ax1[0].set_title(three_names[0])\n",
    "    ax1[0].set(xlabel='')\n",
    "    df_2.sort_values('exec_time')[['exec_time']].plot.bar(ax=ax1[1], color=COLORS_DEFAULT['blue'])\n",
    "    ax1[1].set_title(three_names[1])\n",
    "    ax1[1].set(xlabel='')\n",
    "    df_3.sort_values('exec_time')[['exec_time']].plot.bar(ax=ax1[2], color=COLORS_DEFAULT['blue'])\n",
    "    ax1[2].set_title(three_names[2])\n",
    "    ax1[2].set(xlabel='')\n",
    "    adjust_text_labels(labelBarHeights(ax1[0]), ax=ax1[0])\n",
    "    adjust_text_labels(labelBarHeights(ax1[1]), ax=ax1[1])\n",
    "    adjust_text_labels(labelBarHeights(ax1[2]), ax=ax1[2])\n",
    "    ax1[0].legend(labels=[\"execution time\"])\n",
    "    ax1[1].legend(labels=[\"execution time\"])\n",
    "    ax1[2].legend(labels=[\"execution time\"])\n",
    "\n",
    "    ax1[1].tick_params(axis='y', left=True, labelleft=True)\n",
    "    ax1[2].tick_params(axis='y', left=True, labelleft=True)\n",
    "   \n",
    "    scale_y = 1e-3\n",
    "    ticks_y = ticker.FuncFormatter(lambda y, pos: '{0:g}'.format(y/scale_y))\n",
    "    ax1[1].yaxis.set_major_formatter(ticks_y)\n",
    "    \n",
    "    ax1[0].set(ylabel='milliseconds')\n",
    "    \n",
    "    f.suptitle(title, fontsize=16, y=0.98)\n",
    "    plt.show()\n"
   ]
  },
  {
   "cell_type": "code",
   "execution_count": 37,
   "metadata": {},
   "outputs": [
    {
     "data": {
      "text/plain": [
       "<Figure size 432x288 with 0 Axes>"
      ]
     },
     "metadata": {},
     "output_type": "display_data"
    },
    {
     "data": {
      "image/png": "[encoded data removed]",
      "text/plain": [
       "<Figure size 1152x504 with 3 Axes>"
      ]
     },
     "metadata": {},
     "output_type": "display_data"
    }
   ],
   "source": [
    "plotThreeTestsExecTime(df_interp, blake2b_test_names, title=\"wasm interpreters compared - blake2b\")"
   ]
  },
  {
   "cell_type": "markdown",
   "metadata": {},
   "source": [
    "## Compiler Results"
   ]
  },
  {
   "cell_type": "code",
   "execution_count": 38,
   "metadata": {},
   "outputs": [],
   "source": [
    "compiler_results_for_df = []\n",
    "for engine in COMPILER_ENGINES:\n",
    "    df_engine = df_wasm[df_wasm['engine'] == engine]\n",
    "    df_means = df_engine.groupby(['test_name']).mean()\n",
    "    test_names = df_engine['test_name'].unique().tolist()\n",
    "    for test_name in test_names:\n",
    "        compiler_results_for_df.append([engine, test_name] + df_means.loc[test_name].tolist())"
   ]
  },
  {
   "cell_type": "code",
   "execution_count": 39,
   "metadata": {},
   "outputs": [],
   "source": [
    "df_compiler = pd.DataFrame(compiler_results_for_df)"
   ]
  },
  {
   "cell_type": "code",
   "execution_count": 40,
   "metadata": {},
   "outputs": [
    {
     "data": {
      "text/html": [
       "<div>\n",
       "<style scoped>\n",
       "    .dataframe tbody tr th:only-of-type {\n",
       "        vertical-align: middle;\n",
       "    }\n",
       "\n",
       "    .dataframe tbody tr th {\n",
       "        vertical-align: top;\n",
       "    }\n",
       "\n",
       "    .dataframe thead th {\n",
       "        text-align: right;\n",
       "    }\n",
       "</style>\n",
       "<table border=\"1\" class=\"dataframe\">\n",
       "  <thead>\n",
       "    <tr style=\"text-align: right;\">\n",
       "      <th></th>\n",
       "      <th>0</th>\n",
       "      <th>1</th>\n",
       "      <th>2</th>\n",
       "      <th>3</th>\n",
       "      <th>4</th>\n",
       "    </tr>\n",
       "  </thead>\n",
       "  <tbody>\n",
       "    <tr>\n",
       "      <th>0</th>\n",
       "      <td>wasmtime</td>\n",
       "      <td>ecpairing</td>\n",
       "      <td>1.124023</td>\n",
       "      <td>0.967471</td>\n",
       "      <td>0.135693</td>\n",
       "    </tr>\n",
       "    <tr>\n",
       "      <th>1</th>\n",
       "      <td>wasmtime</td>\n",
       "      <td>sha1-21896-bits</td>\n",
       "      <td>0.075694</td>\n",
       "      <td>0.068952</td>\n",
       "      <td>0.000104</td>\n",
       "    </tr>\n",
       "    <tr>\n",
       "      <th>2</th>\n",
       "      <td>wasmtime</td>\n",
       "      <td>bn128_mul-chfast1</td>\n",
       "      <td>0.686154</td>\n",
       "      <td>0.677992</td>\n",
       "      <td>0.001267</td>\n",
       "    </tr>\n",
       "    <tr>\n",
       "      <th>3</th>\n",
       "      <td>wasmtime</td>\n",
       "      <td>bn128_mul-cdetrio11</td>\n",
       "      <td>0.718310</td>\n",
       "      <td>0.707029</td>\n",
       "      <td>0.004412</td>\n",
       "    </tr>\n",
       "    <tr>\n",
       "      <th>4</th>\n",
       "      <td>wasmtime</td>\n",
       "      <td>bn128_add-cdetrio10</td>\n",
       "      <td>0.464011</td>\n",
       "      <td>0.457189</td>\n",
       "      <td>0.000095</td>\n",
       "    </tr>\n",
       "    <tr>\n",
       "      <th>...</th>\n",
       "      <td>...</td>\n",
       "      <td>...</td>\n",
       "      <td>...</td>\n",
       "      <td>...</td>\n",
       "      <td>...</td>\n",
       "    </tr>\n",
       "    <tr>\n",
       "      <th>170</th>\n",
       "      <td>wamr-aot</td>\n",
       "      <td>bn128_add-cdetrio14</td>\n",
       "      <td>4.987137</td>\n",
       "      <td>0.342921</td>\n",
       "      <td>0.000082</td>\n",
       "    </tr>\n",
       "    <tr>\n",
       "      <th>171</th>\n",
       "      <td>wamr-aot</td>\n",
       "      <td>bn128_add-cdetrio11</td>\n",
       "      <td>4.916084</td>\n",
       "      <td>0.323595</td>\n",
       "      <td>0.000120</td>\n",
       "    </tr>\n",
       "    <tr>\n",
       "      <th>172</th>\n",
       "      <td>wamr-aot</td>\n",
       "      <td>guido-fuzzer-find-2</td>\n",
       "      <td>0.018889</td>\n",
       "      <td>0.002062</td>\n",
       "      <td>0.000001</td>\n",
       "    </tr>\n",
       "    <tr>\n",
       "      <th>173</th>\n",
       "      <td>wamr-aot</td>\n",
       "      <td>sha1-10808-bits</td>\n",
       "      <td>0.370768</td>\n",
       "      <td>0.057152</td>\n",
       "      <td>0.000041</td>\n",
       "    </tr>\n",
       "    <tr>\n",
       "      <th>174</th>\n",
       "      <td>wamr-aot</td>\n",
       "      <td>modexp-nagydani-1-qube</td>\n",
       "      <td>3.372886</td>\n",
       "      <td>0.383383</td>\n",
       "      <td>0.001215</td>\n",
       "    </tr>\n",
       "  </tbody>\n",
       "</table>\n",
       "<p>175 rows × 5 columns</p>\n",
       "</div>"
      ],
      "text/plain": [
       "            0                       1         2         3         4\n",
       "0    wasmtime               ecpairing  1.124023  0.967471  0.135693\n",
       "1    wasmtime         sha1-21896-bits  0.075694  0.068952  0.000104\n",
       "2    wasmtime       bn128_mul-chfast1  0.686154  0.677992  0.001267\n",
       "3    wasmtime     bn128_mul-cdetrio11  0.718310  0.707029  0.004412\n",
       "4    wasmtime     bn128_add-cdetrio10  0.464011  0.457189  0.000095\n",
       "..        ...                     ...       ...       ...       ...\n",
       "170  wamr-aot     bn128_add-cdetrio14  4.987137  0.342921  0.000082\n",
       "171  wamr-aot     bn128_add-cdetrio11  4.916084  0.323595  0.000120\n",
       "172  wamr-aot     guido-fuzzer-find-2  0.018889  0.002062  0.000001\n",
       "173  wamr-aot         sha1-10808-bits  0.370768  0.057152  0.000041\n",
       "174  wamr-aot  modexp-nagydani-1-qube  3.372886  0.383383  0.001215\n",
       "\n",
       "[175 rows x 5 columns]"
      ]
     },
     "execution_count": 40,
     "metadata": {},
     "output_type": "execute_result"
    }
   ],
   "source": [
    "df_compiler"
   ]
  },
  {
   "cell_type": "code",
   "execution_count": 41,
   "metadata": {},
   "outputs": [],
   "source": [
    "df_compiler.columns = ['engine', 'test_name', 'elapsed_time', 'compile_time', 'exec_time']"
   ]
  },
  {
   "cell_type": "code",
   "execution_count": 42,
   "metadata": {},
   "outputs": [],
   "source": [
    "df_compiler.set_index('engine', inplace=True)"
   ]
  },
  {
   "cell_type": "code",
   "execution_count": 43,
   "metadata": {},
   "outputs": [],
   "source": [
    "df_compiler['total_time'] = df_compiler['compile_time'] + df_compiler['exec_time']"
   ]
  },
  {
   "cell_type": "code",
   "execution_count": 44,
   "metadata": {},
   "outputs": [
    {
     "data": {
      "text/html": [
       "<div>\n",
       "<style scoped>\n",
       "    .dataframe tbody tr th:only-of-type {\n",
       "        vertical-align: middle;\n",
       "    }\n",
       "\n",
       "    .dataframe tbody tr th {\n",
       "        vertical-align: top;\n",
       "    }\n",
       "\n",
       "    .dataframe thead th {\n",
       "        text-align: right;\n",
       "    }\n",
       "</style>\n",
       "<table border=\"1\" class=\"dataframe\">\n",
       "  <thead>\n",
       "    <tr style=\"text-align: right;\">\n",
       "      <th></th>\n",
       "      <th>test_name</th>\n",
       "      <th>elapsed_time</th>\n",
       "      <th>compile_time</th>\n",
       "      <th>exec_time</th>\n",
       "      <th>total_time</th>\n",
       "    </tr>\n",
       "    <tr>\n",
       "      <th>engine</th>\n",
       "      <th></th>\n",
       "      <th></th>\n",
       "      <th></th>\n",
       "      <th></th>\n",
       "      <th></th>\n",
       "    </tr>\n",
       "  </thead>\n",
       "  <tbody>\n",
       "    <tr>\n",
       "      <th>wasmtime</th>\n",
       "      <td>ecpairing</td>\n",
       "      <td>1.124023</td>\n",
       "      <td>0.967471</td>\n",
       "      <td>0.135693</td>\n",
       "      <td>1.103164</td>\n",
       "    </tr>\n",
       "    <tr>\n",
       "      <th>wasmtime</th>\n",
       "      <td>sha1-21896-bits</td>\n",
       "      <td>0.075694</td>\n",
       "      <td>0.068952</td>\n",
       "      <td>0.000104</td>\n",
       "      <td>0.069056</td>\n",
       "    </tr>\n",
       "    <tr>\n",
       "      <th>wasmtime</th>\n",
       "      <td>bn128_mul-chfast1</td>\n",
       "      <td>0.686154</td>\n",
       "      <td>0.677992</td>\n",
       "      <td>0.001267</td>\n",
       "      <td>0.679258</td>\n",
       "    </tr>\n",
       "    <tr>\n",
       "      <th>wasmtime</th>\n",
       "      <td>bn128_mul-cdetrio11</td>\n",
       "      <td>0.718310</td>\n",
       "      <td>0.707029</td>\n",
       "      <td>0.004412</td>\n",
       "      <td>0.711441</td>\n",
       "    </tr>\n",
       "    <tr>\n",
       "      <th>wasmtime</th>\n",
       "      <td>bn128_add-cdetrio10</td>\n",
       "      <td>0.464011</td>\n",
       "      <td>0.457189</td>\n",
       "      <td>0.000095</td>\n",
       "      <td>0.457284</td>\n",
       "    </tr>\n",
       "    <tr>\n",
       "      <th>...</th>\n",
       "      <td>...</td>\n",
       "      <td>...</td>\n",
       "      <td>...</td>\n",
       "      <td>...</td>\n",
       "      <td>...</td>\n",
       "    </tr>\n",
       "    <tr>\n",
       "      <th>wamr-aot</th>\n",
       "      <td>bn128_add-cdetrio14</td>\n",
       "      <td>4.987137</td>\n",
       "      <td>0.342921</td>\n",
       "      <td>0.000082</td>\n",
       "      <td>0.343003</td>\n",
       "    </tr>\n",
       "    <tr>\n",
       "      <th>wamr-aot</th>\n",
       "      <td>bn128_add-cdetrio11</td>\n",
       "      <td>4.916084</td>\n",
       "      <td>0.323595</td>\n",
       "      <td>0.000120</td>\n",
       "      <td>0.323715</td>\n",
       "    </tr>\n",
       "    <tr>\n",
       "      <th>wamr-aot</th>\n",
       "      <td>guido-fuzzer-find-2</td>\n",
       "      <td>0.018889</td>\n",
       "      <td>0.002062</td>\n",
       "      <td>0.000001</td>\n",
       "      <td>0.002063</td>\n",
       "    </tr>\n",
       "    <tr>\n",
       "      <th>wamr-aot</th>\n",
       "      <td>sha1-10808-bits</td>\n",
       "      <td>0.370768</td>\n",
       "      <td>0.057152</td>\n",
       "      <td>0.000041</td>\n",
       "      <td>0.057193</td>\n",
       "    </tr>\n",
       "    <tr>\n",
       "      <th>wamr-aot</th>\n",
       "      <td>modexp-nagydani-1-qube</td>\n",
       "      <td>3.372886</td>\n",
       "      <td>0.383383</td>\n",
       "      <td>0.001215</td>\n",
       "      <td>0.384598</td>\n",
       "    </tr>\n",
       "  </tbody>\n",
       "</table>\n",
       "<p>175 rows × 5 columns</p>\n",
       "</div>"
      ],
      "text/plain": [
       "                       test_name  elapsed_time  compile_time  exec_time  \\\n",
       "engine                                                                    \n",
       "wasmtime               ecpairing      1.124023      0.967471   0.135693   \n",
       "wasmtime         sha1-21896-bits      0.075694      0.068952   0.000104   \n",
       "wasmtime       bn128_mul-chfast1      0.686154      0.677992   0.001267   \n",
       "wasmtime     bn128_mul-cdetrio11      0.718310      0.707029   0.004412   \n",
       "wasmtime     bn128_add-cdetrio10      0.464011      0.457189   0.000095   \n",
       "...                          ...           ...           ...        ...   \n",
       "wamr-aot     bn128_add-cdetrio14      4.987137      0.342921   0.000082   \n",
       "wamr-aot     bn128_add-cdetrio11      4.916084      0.323595   0.000120   \n",
       "wamr-aot     guido-fuzzer-find-2      0.018889      0.002062   0.000001   \n",
       "wamr-aot         sha1-10808-bits      0.370768      0.057152   0.000041   \n",
       "wamr-aot  modexp-nagydani-1-qube      3.372886      0.383383   0.001215   \n",
       "\n",
       "          total_time  \n",
       "engine                \n",
       "wasmtime    1.103164  \n",
       "wasmtime    0.069056  \n",
       "wasmtime    0.679258  \n",
       "wasmtime    0.711441  \n",
       "wasmtime    0.457284  \n",
       "...              ...  \n",
       "wamr-aot    0.343003  \n",
       "wamr-aot    0.323715  \n",
       "wamr-aot    0.002063  \n",
       "wamr-aot    0.057193  \n",
       "wamr-aot    0.384598  \n",
       "\n",
       "[175 rows x 5 columns]"
      ]
     },
     "execution_count": 44,
     "metadata": {},
     "output_type": "execute_result"
    }
   ],
   "source": [
    "df_compiler"
   ]
  },
  {
   "cell_type": "markdown",
   "metadata": {},
   "source": [
    "## Delete this part"
   ]
  },
  {
   "cell_type": "code",
   "execution_count": 45,
   "metadata": {},
   "outputs": [],
   "source": [
    "#compiler_results_for_df"
   ]
  },
  {
   "cell_type": "code",
   "execution_count": 46,
   "metadata": {},
   "outputs": [],
   "source": [
    "liftoff_results = []\n",
    "for cr in compiler_results_for_df:\n",
    "    if cr[0] == 'v8-liftoff':\n",
    "        liftoff_results.append(cr)"
   ]
  },
  {
   "cell_type": "code",
   "execution_count": 47,
   "metadata": {},
   "outputs": [],
   "source": [
    "#liftoff_results"
   ]
  },
  {
   "cell_type": "markdown",
   "metadata": {},
   "source": [
    "## Compiler function\n",
    "\n",
    "*Note: Fix scale for v8-turbofan execution time*"
   ]
  },
  {
   "cell_type": "code",
   "execution_count": 48,
   "metadata": {},
   "outputs": [],
   "source": [
    "def plotCompilerStackedOneTest(df_benchdata, test_name):\n",
    "    df_1 = df_benchdata[df_benchdata['test_name'] == test_name]\n",
    "    # for some reason, exec_time needs to come first for the stacked chart to display correctly\n",
    "    ax = df_1[['exec_time', 'compile_time']].sort_values('exec_time').plot.bar(stacked=True, color=[COLORS_DEFAULT['blue'], COLORS_DEFAULT['red']], figsize=(10,10))\n",
    "    ax.set_title(\"Compilers - {}\".format(test_name))\n",
    "    df_total_times = df_1[['exec_time', 'compile_time']].copy()\n",
    "    df_total_times['total_time'] = df_total_times['exec_time'] + df_total_times['compile_time']\n",
    "    ymax = max(df_total_times[['total_time']].max()) * 1.3 # 30% larger for padding between top of bars and top of graph\n",
    "    ymin = min([x for x in df_1[['exec_time', 'compile_time']].min().tolist() if x > 0])\n",
    "    ymin = ymin * 0.8 # 0.8 to get a number 20% smaller, fix to make bar appear for smallest exec time\n",
    "    ax.set_ylim(ymin, ymax)\n",
    "    ax.set_yscale(\"log\")\n",
    "    plt.ylabel(\"seconds (log scale)\")\n",
    "    adjust_text_labels(labelBarHeights(ax, lower_y_bound=False))\n",
    "    ax.legend(labels=[\"execution time\", \"compile time\"])\n",
    "    plt.savefig(\"../images/wasm-compilers.png\")\n",
    "\n"
   ]
  },
  {
   "cell_type": "code",
   "execution_count": 49,
   "metadata": {
    "scrolled": false
   },
   "outputs": [
    {
     "data": {
      "image/png": "[encoded data removed]",
      "text/plain": [
       "<Figure size 720x720 with 1 Axes>"
      ]
     },
     "metadata": {},
     "output_type": "display_data"
    }
   ],
   "source": [
    "plotCompilerStackedOneTest(df_compiler, blake2b_test_names[2])"
   ]
  },
  {
   "cell_type": "code",
   "execution_count": null,
   "metadata": {},
   "outputs": [],
   "source": []
  },
  {
   "cell_type": "code",
   "execution_count": null,
   "metadata": {},
   "outputs": [],
   "source": []
  },
  {
   "cell_type": "code",
   "execution_count": null,
   "metadata": {},
   "outputs": [],
   "source": []
  },
  {
   "cell_type": "code",
   "execution_count": null,
   "metadata": {},
   "outputs": [],
   "source": []
  },
  {
   "cell_type": "code",
   "execution_count": null,
   "metadata": {},
   "outputs": [],
   "source": []
  },
  {
   "cell_type": "code",
   "execution_count": null,
   "metadata": {},
   "outputs": [],
   "source": []
  },
  {
   "cell_type": "markdown",
   "metadata": {},
   "source": [
    "## Interpreter vs Compiler speedup"
   ]
  },
  {
   "cell_type": "code",
   "execution_count": null,
   "metadata": {},
   "outputs": [],
   "source": []
  },
  {
   "cell_type": "code",
   "execution_count": 50,
   "metadata": {},
   "outputs": [],
   "source": [
    "df_interp_merge = df_interp.copy()\n",
    "df_interp_merge.columns = ['test_name', 'elapsed_time', 'compile_time', 'exec_time', 'total_time']\n",
    "df_interp_and_compile = pd.concat([df_interp_merge, df_compiler])\n",
    "df_interp_and_compile = df_interp_and_compile.reset_index()"
   ]
  },
  {
   "cell_type": "code",
   "execution_count": null,
   "metadata": {},
   "outputs": [],
   "source": []
  },
  {
   "cell_type": "code",
   "execution_count": 51,
   "metadata": {},
   "outputs": [],
   "source": [
    "def add_engine_ratio_col(df_two_engines, interp_engine, compiler_engine):\n",
    "    df_two = df_two_engines.copy(deep=True)\n",
    "    df_interp = df_two[df_two['engine'] == interp_engine].copy()\n",
    "    df_compile = df_two[df_two['engine'] == compiler_engine]\n",
    "    for index, row in df_interp.iterrows():\n",
    "        test_name = row['test_name']\n",
    "        row_compiler = df_compile[df_compile['test_name'] == test_name]\n",
    "        if len(row_compiler) != 1:\n",
    "            print(\"ERROR. SHOULD HAVE 1 MATCH ONLY\")\n",
    "            break\n",
    "        compiler_exec_time = row_compiler.iloc[0]['exec_time']\n",
    "        exec_ratio = row['exec_time'] / compiler_exec_time\n",
    "        df_interp.at[index, 'compiler_exec_time'] = compiler_exec_time\n",
    "        df_interp.at[index, 'interp_slowdown'] = exec_ratio\n",
    "\n",
    "    return df_interp"
   ]
  },
  {
   "cell_type": "code",
   "execution_count": 52,
   "metadata": {},
   "outputs": [],
   "source": [
    "df_wasmi_v8liftoff = add_engine_ratio_col(df_interp_and_compile, \"wasmi\", \"v8-liftoff\")"
   ]
  },
  {
   "cell_type": "code",
   "execution_count": null,
   "metadata": {},
   "outputs": [],
   "source": []
  },
  {
   "cell_type": "code",
   "execution_count": 53,
   "metadata": {},
   "outputs": [],
   "source": [
    "def plotCompilerSpeedup(df_compiler_speedup, interp_name=\"interp\", compiler_name=\"compiler\"):\n",
    "    df_is = df_compiler_speedup.copy()\n",
    "    plot_tests = df_is['test_name'].tolist()\n",
    "    test_index = all_tests.copy()\n",
    "    for test_name in all_tests:\n",
    "        if test_name not in plot_tests:\n",
    "            test_index.remove(test_name)\n",
    " \n",
    "    df_is = df_is.set_index('test_name')\n",
    "    df_is = df_is.reindex(test_index)\n",
    "    plt.figure()\n",
    "    ax = df_is['interp_slowdown'].plot.bar(figsize=(13,7), color=COLORS_DEFAULT['blue'])\n",
    "    ax.set_title(\"{} (Interpreter) vs {} (Compiler) - speedup\".format(interp_name, compiler_name))\n",
    "    ax.set(ylabel=\"compiler speedup (log scale)\", xlabel=\"\")\n",
    "\n",
    "    y_max = ax.get_ylim()[1]\n",
    "    y_max = y_max * 5 # padding between top of bars and legend\n",
    "    ax.set_yscale('log')\n",
    "    ax.set_ylim(0.1, y_max) # adjustment to move horizontal line higher on chart\n",
    "\n",
    "    adjust_text_labels(labelBarHeights(ax, to_ms=False, to_factor=1, lower_y_bound=False))\n",
    "\n",
    "    plt.axhline(y=1.0, linewidth=2, ls='--', color='r')\n",
    "\n",
    "    handles, _ = ax.get_legend_handles_labels()\n",
    "\n",
    "    plt.legend(labels=[\"compiler engine is faster (ratio > 1x)\", \"compiler speedup \\n (ratio: interp_exec_time/compiler_exec_time)\"])\n",
    "\n",
    "    #f.suptitle(title, fontsize=16, y=0.95)\n",
    "    plt.show()\n"
   ]
  },
  {
   "cell_type": "code",
   "execution_count": 54,
   "metadata": {},
   "outputs": [
    {
     "data": {
      "image/png": "[encoded data removed]",
      "text/plain": [
       "<Figure size 936x504 with 1 Axes>"
      ]
     },
     "metadata": {},
     "output_type": "display_data"
    }
   ],
   "source": [
    "plotCompilerSpeedup(df_wasmi_v8liftoff, interp_name=\"wasmi\", compiler_name=\"v8-liftoff\")"
   ]
  },
  {
   "cell_type": "code",
   "execution_count": null,
   "metadata": {},
   "outputs": [],
   "source": []
  },
  {
   "cell_type": "code",
   "execution_count": null,
   "metadata": {},
   "outputs": [],
   "source": []
  },
  {
   "cell_type": "markdown",
   "metadata": {},
   "source": [
    "## All precompiles compared (are interpreters feasible?)"
   ]
  },
  {
   "cell_type": "code",
   "execution_count": 55,
   "metadata": {},
   "outputs": [],
   "source": [
    "def plotInterpOneEngine(df_benchdata, engine, test_names, title=\"\"):\n",
    "    df_bench = df_benchdata.loc[engine][df_benchdata.loc[engine]['test_name'].isin(test_names)]\n",
    "    df_bench.set_index('test_name', inplace=True)\n",
    "    df_bench = df_bench.reindex(test_names)\n",
    "    plt.figure()\n",
    "    ax = df_bench[['parse_time', 'exec_time']].plot.bar(stacked=True, figsize=(15,7), color=[COLORS_DEFAULT['red'], COLORS_DEFAULT['blue']])\n",
    "    plt.ylabel(\"seconds\")\n",
    "    ax.set(xlabel='')\n",
    "    # doing get_legend_handles_labels() so we can control the order of the labels in the legend \n",
    "    handles, labels = ax.get_legend_handles_labels()\n",
    "    plt.legend([handles[1], handles[0]], ['execution time (top bar/label)', 'startup time (bottom bar/label - bar not visible for times < 20.0ms)'])\n",
    "    adjust_text_labels(labelBarHeights(ax))\n",
    "    plt.suptitle(title, fontsize=16, y=0.95)\n",
    "    plt.show()"
   ]
  },
  {
   "cell_type": "code",
   "execution_count": 56,
   "metadata": {},
   "outputs": [
    {
     "data": {
      "text/plain": [
       "<Figure size 432x288 with 0 Axes>"
      ]
     },
     "metadata": {},
     "output_type": "display_data"
    },
    {
     "data": {
      "image/png": "[encoded data removed]",
      "text/plain": [
       "<Figure size 1080x504 with 1 Axes>"
      ]
     },
     "metadata": {},
     "output_type": "display_data"
    }
   ],
   "source": [
    "plotInterpOneEngine(df_interp, 'wasmi', all_tests, \"Wasmi - all Precompiles (existing and proposed) compared\")"
   ]
  },
  {
   "cell_type": "code",
   "execution_count": null,
   "metadata": {},
   "outputs": [],
   "source": []
  },
  {
   "cell_type": "code",
   "execution_count": null,
   "metadata": {},
   "outputs": [],
   "source": []
  }
 ],
 "metadata": {
  "kernelspec": {
   "display_name": "Python 3",
   "language": "python",
   "name": "python3"
  },
  "language_info": {
   "codemirror_mode": {
    "name": "ipython",
    "version": 3
   },
   "file_extension": ".py",
   "mimetype": "text/x-python",
   "name": "python",
   "nbconvert_exporter": "python",
   "pygments_lexer": "ipython3",
   "version": "3.7.4"
  }
 },
 "nbformat": 4,
 "nbformat_minor": 2
}
